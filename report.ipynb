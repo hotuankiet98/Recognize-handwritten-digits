{
  "cells": [
    {
      "cell_type": "markdown",
      "metadata": {
        "id": "FXIqgdxj9KT8"
      },
      "source": [
        "# Báo cáo đồ án giữ kì  \n",
        "# Artificial Neural Network"
      ]
    },
    {
      "cell_type": "markdown",
      "metadata": {
        "id": "Eug1zVhaDvCf"
      },
      "source": [
        "MSSV-Họ tên: 22424022 - Trương Bữu Khang   \n",
        "       \n",
        "MSSV-Họ tên: 22424023 - Hồ Tuấn Kiệt"
      ]
    },
    {
      "cell_type": "markdown",
      "metadata": {
        "id": "IfnqEKEkDvCi"
      },
      "source": [
        "# Mô tả thuật toán"
      ]
    },
    {
      "cell_type": "markdown",
      "metadata": {
        "id": "yqCDq7ZbDvCj"
      },
      "source": [
        "Triển khai một cách đơn giản, từ đầu một mạng nơ-ron nhằm phân loại các chữ số viết tay từ tập dữ liệu MNIST. Tập dữ liệu MNIST là một tập dữ liệu tiêu chuẩn được sử dụng trong thị giác máy tính và học sâu để đánh giá các thuật toán phân loại. Mạng này sử dụng một lớp ẩn duy nhất và thực hiện các phương pháp lan truyền xuôi, lan truyền ngược (cho việc học) và đào tạo theo lô. Ngoài ra, nó bao gồm các tiện ích để tải dữ liệu MNIST, tiền xử lý hình ảnh và một hàm dự đoán đơn giản. Hãy phân tích các thành phần và hoạt động thiết yếu của mã này:\n",
        "\n",
        "`Bộ Nạp và Tiền Xử Lý Dữ Liệu MNIST`\n",
        "\n",
        "Lớp CMNISTData: Xử lý việc tải và phân tích các tệp dữ liệu MNIST, bao gồm cả hình ảnh và nhãn. Nó hỗ trợ chuyển đổi endian để tương thích trên các hệ thống khác nhau và tiền xử lý các hình ảnh để chuẩn hóa giá trị pixel.\n",
        "Tiền xử lý hình ảnh tùy chỉnh: Sử dụng OpenCV, hàm PreprocessImage đọc một hình ảnh từ đường dẫn đã cho, thay đổi kích thước của nó thành kích thước tiêu chuẩn của MNIST là 28x28 pixel và chuẩn hóa các giá trị pixel.\n",
        "\n",
        "`Triển Khai Mạng Nơ-ron`\n",
        "\n",
        "Lớp CNeuralNetwork: Đại diện cho kiến trúc mạng nơ-ron cơ bản với một lớp ẩn. Nó được templated để tùy chỉnh số lượng nơ-ron đầu vào, nơ-ron ẩn và nơ-ron đầu ra.\n",
        "Khởi tạo: Khởi tạo ngẫu nhiên trọng số và độ lệch với phân phối Gaussian.\n",
        "Lan truyền xuôi: Tính toán kích hoạt của từng nơ-ron trong mạng dựa trên dữ liệu đầu vào.\n",
        "Lan truyền ngược (Học): Điều chỉnh trọng số và độ lệch của mạng sử dụng gradient descent, dựa trên sai số giữa đầu ra dự đoán và đầu ra thực tế.\n",
        "Đào tạo: Xử lý các lô nhỏ dữ liệu để cập nhật các tham số mô hình lặp đi lặp lại.\n",
        "\n",
        "`Đào Tạo và Dự Đoán`\n",
        "\n",
        "Hàm chính điều khiển quá trình tải tập dữ liệu, đào tạo mạng nơ-ron và đánh giá hiệu suất của nó trên cả dữ liệu đào tạo và kiểm tra.\n",
        "Nó triển khai một tiện ích hẹn giờ đơn giản SBlockTimer để đo thời gian đào tạo.\n",
        "Sau khi đào tạo, nó trình bày cách tiền xử lý hình ảnh và sử dụng mô hình đã đào tạo để dự đoán nhãn số của hình ảnh chưa thấy.\n",
        "\n",
        "`Tham khảo`\n",
        "\n",
        "1. Video “What is Neural Networks”\n",
        "2. Neural Networks and Deep Learning book\n",
        "3. Dùng thư viện của openCV để hỗ trợ trong việc load và chuẩn hoá ảnh"
      ]
    },
    {
      "cell_type": "markdown",
      "metadata": {
        "id": "rzhqEGRfDvCl"
      },
      "source": [
        "# Luồng dữ liệu"
      ]
    },
    {
      "cell_type": "markdown",
      "metadata": {
        "id": "BHq9JdEIDvCl"
      },
      "source": [
        "Load tập dữ liệu Mnist `->` Chuẩn hoá dữ liệu ma trận ảnh thành vector `->` Khởi tạo mạng Neural Network `->` Huấn luyện dữ liệu `->` Kiểm tra tính đúng đắn sau mỗi lần huấn luyện `->` Đưa vào một bức ảnh là kí tự số viết tay `->` Chuẩn hoá bức ảnh đó thành vector `->` Kiểm tra ảnh đã chuẩn hoá so với mô hình `->` Xử lý và dự đoán kết quả."
      ]
    },
    {
      "cell_type": "markdown",
      "metadata": {
        "id": "oJN2UMd5DvCm"
      },
      "source": [
        "# Sử dụng trên google colab"
      ]
    },
    {
      "cell_type": "markdown",
      "metadata": {
        "id": "VigWEGexDvCm"
      },
      "source": [
        "`Đoạn mã này dùng để lấy một hình ảnh ngẫu nhiên tự bộ dữ liệu mnist để dự đoán nó sẽ lưu vào drawn_image.png`"
      ]
    },
    {
      "cell_type": "code",
      "execution_count": 5,
      "metadata": {
        "colab": {
          "base_uri": "https://localhost:8080/",
          "height": 1000
        },
        "id": "H7E4psmODvCn",
        "outputId": "e5f52220-98d4-4487-dec2-1322cd0e3c8e"
      },
      "outputs": [
        {
          "output_type": "stream",
          "name": "stdout",
          "text": [
            "Downloading data from https://storage.googleapis.com/tensorflow/tf-keras-datasets/mnist.npz\n",
            "11490434/11490434 [==============================] - 0s 0us/step\n",
            "Hình ảnh a.png đã được lưu với kích thước 28x28.\n"
          ]
        },
        {
          "output_type": "display_data",
          "data": {
            "text/plain": [
              "<Figure size 640x480 with 1 Axes>"
            ],
            "image/png": "[encoded data removed]"
          },
          "metadata": {}
        },
        {
          "output_type": "stream",
          "name": "stdout",
          "text": [
            "Hình ảnh b.png đã được lưu với kích thước 28x28.\n"
          ]
        },
        {
          "output_type": "display_data",
          "data": {
            "text/plain": [
              "<Figure size 640x480 with 1 Axes>"
            ],
            "image/png": "[encoded data removed]"
          },
          "metadata": {}
        },
        {
          "output_type": "stream",
          "name": "stdout",
          "text": [
            "Hình ảnh c.png đã được lưu với kích thước 28x28.\n"
          ]
        },
        {
          "output_type": "display_data",
          "data": {
            "text/plain": [
              "<Figure size 640x480 with 1 Axes>"
            ],
            "image/png": "[encoded data removed]"
          },
          "metadata": {}
        },
        {
          "output_type": "stream",
          "name": "stdout",
          "text": [
            "Hình ảnh d.png đã được lưu với kích thước 28x28.\n"
          ]
        },
        {
          "output_type": "display_data",
          "data": {
            "text/plain": [
              "<Figure size 640x480 with 1 Axes>"
            ],
            "image/png": "[encoded data removed]"
          },
          "metadata": {}
        },
        {
          "output_type": "stream",
          "name": "stdout",
          "text": [
            "Hình ảnh e.png đã được lưu với kích thước 28x28.\n"
          ]
        },
        {
          "output_type": "display_data",
          "data": {
            "text/plain": [
              "<Figure size 640x480 with 1 Axes>"
            ],
            "image/png": "[encoded data removed]"
          },
          "metadata": {}
        }
      ],
      "source": [
        "# Import thư viện cần thiết\n",
        "import numpy as np\n",
        "import matplotlib.pyplot as plt\n",
        "from tensorflow.keras.datasets import mnist\n",
        "from PIL import Image\n",
        "import string\n",
        "import os\n",
        "\n",
        "# Hàm để kiểm tra và tạo các tệp nếu chưa tồn tại\n",
        "def create_file_if_not_exists(filename):\n",
        "    if not os.path.exists(filename):\n",
        "        open(filename, 'a').close()\n",
        "\n",
        "# Tải bộ dữ liệu MNIST\n",
        "(x_train, y_train), (x_test, y_test) = mnist.load_data()\n",
        "\n",
        "# Ví dụ với 5 hình ảnh\n",
        "num_images = 5\n",
        "\n",
        "# Tạo thư mục để lưu ảnh nếu nó không tồn tại\n",
        "if not os.path.exists(\"saved_images\"):\n",
        "    os.makedirs(\"saved_images\")\n",
        "\n",
        "# Tạo các tệp a.png, b.png, c.png, d.png, e.png nếu chúng không tồn tại\n",
        "for i in range(num_images):\n",
        "    create_file_if_not_exists(string.ascii_lowercase[i] + \".png\")\n",
        "\n",
        "# Lặp qua từng hình ảnh\n",
        "for i in range(num_images):\n",
        "    # Chọn một hình ảnh ngẫu nhiên từ tập dữ liệu\n",
        "    random_index = np.random.randint(0, x_train.shape[0])\n",
        "\n",
        "    # Hiển thị hình ảnh\n",
        "    plt.imshow(x_train[random_index], cmap='gray')\n",
        "    plt.title(f'Label: {y_train[random_index]}')\n",
        "    plt.axis('off')\n",
        "\n",
        "    # Chỉnh kích thước hình ảnh thành 20x20\n",
        "    img = Image.fromarray(x_train[random_index])\n",
        "    img = img.resize((28, 28))\n",
        "\n",
        "    # Tạo tên file dựa trên các ký tự trong bảng chữ cái\n",
        "    filename = string.ascii_lowercase[i] + \".png\"\n",
        "\n",
        "    # Lưu hình ảnh có kích thước 20x20 với tên 'drawn_image.png'\n",
        "    img.save(filename)\n",
        "\n",
        "    # Hiển thị thông báo hoàn thành\n",
        "    print(f\"Hình ảnh {filename} đã được lưu với kích thước 28x28.\")\n",
        "    # Nếu bạn muốn hiển thị hình ảnh trực tiếp trên notebook sau khi lưu, thực hiện plt.show() sau plt.savefig()\n",
        "    plt.show()"
      ]
    },
    {
      "cell_type": "markdown",
      "metadata": {
        "id": "oW7KNHPhDvCo"
      },
      "source": [
        "`Cài đặt thư viện openCV`"
      ]
    },
    {
      "cell_type": "code",
      "execution_count": 43,
      "metadata": {
        "id": "YMZ1Jyt-DvCo"
      },
      "outputs": [],
      "source": [
        "!apt-get -qq install -y libopencv-dev"
      ]
    },
    {
      "cell_type": "markdown",
      "metadata": {
        "id": "MRaLVp9QDvCp"
      },
      "source": [
        "`Chạy file kernel.cu trong đó sử dụng package của openCV`"
      ]
    },
    {
      "cell_type": "code",
      "execution_count": 14,
      "metadata": {
        "id": "NKQAtdVSDvCp"
      },
      "outputs": [],
      "source": [
        "!nvcc -o output kernel.cu `pkg-config --cflags --libs opencv4` -diag-suppress 611"
      ]
    },
    {
      "cell_type": "markdown",
      "metadata": {
        "id": "zN3CXX3EDvCp"
      },
      "source": [
        "`Quá trình hiển thị kết quả mất khoảng 30 giây, mô hình có khả năng dự đoán đúng 85% nếu sai sót vui lòng random lại bức ảnh khác và chạy lại đoạn mã`"
      ]
    },
    {
      "cell_type": "code",
      "execution_count": 16,
      "metadata": {
        "colab": {
          "base_uri": "https://localhost:8080/"
        },
        "id": "weUX7e1dDvCq",
        "outputId": "eab0f441-3963-471d-a152-acf1ee09fb34"
      },
      "outputs": [
        {
          "output_type": "stream",
          "name": "stdout",
          "text": [
            "Kernel: \n",
            "Kernel 0: Load mnist by host \n",
            "Kernel 1: Load mnist by device \n",
            "Kernel 2: Load mnist by SMEM \n",
            "Kernel 3: Load mnist by CMEM \n",
            "Kernel 4: Compare host and kernel \n",
            "4\n",
            "Load MNIST on Host\n",
            "Kernel 1: Load MNIST on Device\n",
            "Kernel 2: Load MNIST on Device by SMEM \n",
            "Kernel 3: Load MNIST on Device by CMEM \n",
            "Host time: 368.653687 ms\n",
            "Kernel 1 time: 106.277924 ms\n",
            "Kernel 2 time: 102.710526 ms\n",
            "Kernel 3 time: 102.576447 ms\n",
            "CNeuralNetwork is training!!!\n",
            "Training epoch 1 / 5...\n",
            "Training Data Accuracy: 73.59%\n",
            "Test Data Accuracy: 72.34%\n",
            "\n",
            "Training epoch 2 / 5...\n",
            "Training Data Accuracy: 75.40%\n",
            "Test Data Accuracy: 73.62%\n",
            "\n",
            "Training epoch 3 / 5...\n",
            "Training Data Accuracy: 76.61%\n",
            "Test Data Accuracy: 74.81%\n",
            "\n",
            "Training epoch 4 / 5...\n",
            "Training Data Accuracy: 76.99%\n",
            "Test Data Accuracy: 74.95%\n",
            "\n",
            "Training epoch 5 / 5...\n",
            "Training Data Accuracy: 83.73%\n",
            "Test Data Accuracy: 81.04%\n",
            "\n",
            "\n",
            "Final Training Data Accuracy: 83.73%\n",
            "Final Test Data Accuracy: 81.04%\n",
            "\n",
            "Predict image a.png is: 7\n",
            "Predict image b.png is: 0\n",
            "Predict image c.png is: 0\n",
            "Predict image d.png is: 8\n",
            "Predict image e.png is: 5\n"
          ]
        }
      ],
      "source": [
        "! ./output"
      ]
    },
    {
      "cell_type": "markdown",
      "metadata": {
        "id": "bS4eMvED-u-k"
      },
      "source": [
        "`Mô hình được huấn luyện 5 lần để giảm thiểu mất mát và cải thiện hiệu suất`"
      ]
    }
  ],
  "metadata": {
    "colab": {
      "provenance": [],
      "gpuType": "T4"
    },
    "kernelspec": {
      "display_name": "Python 3",
      "name": "python3"
    },
    "language_info": {
      "codemirror_mode": {
        "name": "ipython",
        "version": 3
      },
      "file_extension": ".py",
      "mimetype": "text/x-python",
      "name": "python",
      "nbconvert_exporter": "python",
      "pygments_lexer": "ipython3",
      "version": "3.11.5"
    },
    "accelerator": "GPU"
  },
  "nbformat": 4,
  "nbformat_minor": 0
}